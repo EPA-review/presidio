{
 "cells": [
  {
   "cell_type": "code",
   "execution_count": 1,
   "metadata": {},
   "outputs": [],
   "source": [
    "from presidio_analyzer import AnalyzerEngine, PatternRecognizer\n",
    "from presidio_anonymizer import AnonymizerEngine\n",
    "from presidio_anonymizer.entities import AnonymizerConfig"
   ]
  },
  {
   "cell_type": "markdown",
   "metadata": {},
   "source": [
    "# Analyze Text for PII Entities\n",
    "\n",
    "Using Presidio Analyzer, analyze a text to identify PII entities. \n",
    "\n",
    "The Presidio analyzer is using pre-defined entity recognizers, and offers the option to create custom recognizers.\n",
    "\n",
    "\n",
    "The following code sample will:\n",
    "\n",
    " - Set up the Analyzer engine - load the NLP module (spaCy model by default) and other PII recognizers\n",
    " - Call analyzer to get analyzed results for \"PHONE_NUMBER\" entity type\n"
   ]
  },
  {
   "cell_type": "code",
   "execution_count": 2,
   "metadata": {},
   "outputs": [],
   "source": [
    "text_to_anonymize = \"His name is Mr. Jones and his phone number is 212-555-5555\""
   ]
  },
  {
   "cell_type": "code",
   "execution_count": 3,
   "metadata": {},
   "outputs": [
    {
     "name": "stdout",
     "output_type": "stream",
     "text": [
      "[type: PHONE_NUMBER, start: 46, end: 58, score: 0.85]\n"
     ]
    }
   ],
   "source": [
    "analyzer = AnalyzerEngine()\n",
    "analyzer_results = analyzer.analyze(text=text_to_anonymize, \n",
    "                                    entities=[\"PHONE_NUMBER\"], \n",
    "                                    language='en')\n",
    "\n",
    "print(analyzer_results)"
   ]
  },
  {
   "cell_type": "markdown",
   "metadata": {},
   "source": [
    "# Create Custom PII Entity Recognizers\n",
    "\n",
    "Presidio Analyzer comes with a pre-defined set of entity recognizers. It also allows adding new recognizers without changing the analyzer base code, **by creating custom recognizers.**\n",
    "\n",
    "In the following example, we will create two new recognizers of type `PatternRecognizer` to identify titles and pronouns in the analyzed text.\n",
    "A `PatternRecognizer` is a PII entity recognizer which uses regular expressions or deny-lists.\n",
    "\n",
    "The following code sample will:\n",
    "\n",
    " - Create custom recognizers\n",
    " - Add the new custom recognizers to the analyzer\n",
    " - Call analyzer to get results from the new recognizers"
   ]
  },
  {
   "cell_type": "code",
   "execution_count": 4,
   "metadata": {},
   "outputs": [
    {
     "data": {
      "text/plain": [
       "[type: PRONOUN, start: 0, end: 3, score: 1.0,\n",
       " type: TITLE, start: 12, end: 15, score: 1.0,\n",
       " type: PRONOUN, start: 26, end: 29, score: 1.0]"
      ]
     },
     "execution_count": 4,
     "metadata": {},
     "output_type": "execute_result"
    }
   ],
   "source": [
    "# Create new recognizers\n",
    "\n",
    "titles_recognizer = PatternRecognizer(supported_entity=\"TITLE\",\n",
    "                                      deny_list=[\"Mr.\",\"Mrs.\",\"Miss\"])\n",
    "\n",
    "pronoun_recognizer = PatternRecognizer(supported_entity=\"PRONOUN\",\n",
    "                                      deny_list=[\"he\", \"He\", \"his\", \"His\", \"she\", \"She\", \"hers\" \"Hers\"])\n",
    "\n",
    "# Add to recognizer registry\n",
    "analyzer.registry.add_recognizer(titles_recognizer)\n",
    "analyzer.registry.add_recognizer(pronoun_recognizer)\n",
    "\n",
    "# Run analyzer with the TITLE and PRONOUN entities only\n",
    "analyzer_results = analyzer.analyze(text=text_to_anonymize,\n",
    "                            entities=[\"TITLE\", \"PRONOUN\"],\n",
    "                            language=\"en\")\n",
    "\n",
    "analyzer_results"
   ]
  },
  {
   "cell_type": "markdown",
   "metadata": {},
   "source": [
    "Call Presidio Analyzer and get analyzed results with all the configured recognizers - default and new custom recognizers"
   ]
  },
  {
   "cell_type": "code",
   "execution_count": 5,
   "metadata": {},
   "outputs": [
    {
     "data": {
      "text/plain": [
       "[type: PRONOUN, start: 0, end: 3, score: 1.0,\n",
       " type: TITLE, start: 12, end: 15, score: 1.0,\n",
       " type: PRONOUN, start: 26, end: 29, score: 1.0,\n",
       " type: PERSON, start: 16, end: 21, score: 0.85,\n",
       " type: PHONE_NUMBER, start: 46, end: 58, score: 0.85]"
      ]
     },
     "execution_count": 5,
     "metadata": {},
     "output_type": "execute_result"
    }
   ],
   "source": [
    "analyzer_results = analyzer.analyze(text=text_to_anonymize, language='en')\n",
    "\n",
    "analyzer_results"
   ]
  },
  {
   "cell_type": "markdown",
   "metadata": {},
   "source": [
    "# Anonymize Text with Identified PII Entities\n",
    "\n",
    "Presidio Anonymizer iterates over the Presidio Analyzer result, and provides anonymization capabilities for the identified text.\n",
    "The anonymizer provides 5 types of anonymizers - replace, redact, mask, hash and encrypt. The default is **replace**\n",
    "\n",
    "The following code sample will:\n",
    "\n",
    " - Setup the anonymizer engine\n",
    " - Create an anonymizer request - text to anonymize, list of anonymizers to apply and the results from the analyzer request\n",
    " - Anonymize the text\n"
   ]
  },
  {
   "cell_type": "code",
   "execution_count": 6,
   "metadata": {},
   "outputs": [
    {
     "data": {
      "text/plain": [
       "Text: <PRONOUN> name is  <PERSON> and <PRONOUN> phone number is ********5555\n",
       "\n",
       "Anonymized entities:\n",
       "text: ********5555, anonymizer: mask, entity_type: PHONE_NUMBER, indices: (58, 70).\n",
       "text: <PRONOUN>, anonymizer: replace, entity_type: PRONOUN, indices: (32, 41).\n",
       "text: <PERSON>, anonymizer: replace, entity_type: PERSON, indices: (19, 27).\n",
       "text: , anonymizer: redact, entity_type: TITLE, indices: (18, 18).\n",
       "text: <PRONOUN>, anonymizer: replace, entity_type: PRONOUN, indices: (0, 9)."
      ]
     },
     "execution_count": 6,
     "metadata": {},
     "output_type": "execute_result"
    }
   ],
   "source": [
    "anonymizer = AnonymizerEngine()\n",
    "\n",
    "anonymized_results = anonymizer.anonymize(\n",
    "    text=text_to_anonymize,\n",
    "    analyzer_results=analyzer_results,    \n",
    "    anonymizers_config={\"DEFAULT\": AnonymizerConfig(\"replace\"), \n",
    "                        \"PHONE_NUMBER\": AnonymizerConfig(\"mask\", {\"type\": \"mask\", \n",
    "                                                                  \"masking_char\" : \"*\", \n",
    "                                                                  \"chars_to_mask\" : 8, \n",
    "                                                                  \"from_end\" : False}),\n",
    "                        \"TITLE\": AnonymizerConfig(\"redact\", {})}\n",
    ")\n",
    "\n",
    "anonymized_results"
   ]
  },
  {
   "cell_type": "code",
   "execution_count": null,
   "metadata": {},
   "outputs": [],
   "source": []
  }
 ],
 "metadata": {
  "kernelspec": {
   "display_name": "presidio",
   "language": "python",
   "name": "presidio"
  },
  "language_info": {
   "codemirror_mode": {
    "name": "ipython",
    "version": 3
   },
   "file_extension": ".py",
   "mimetype": "text/x-python",
   "name": "python",
   "nbconvert_exporter": "python",
   "pygments_lexer": "ipython3",
   "version": "3.7.9"
  }
 },
 "nbformat": 4,
 "nbformat_minor": 2
}
